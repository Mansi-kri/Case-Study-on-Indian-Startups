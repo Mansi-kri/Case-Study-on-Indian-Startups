{
 "cells": [
  {
   "cell_type": "code",
   "execution_count": 1,
   "metadata": {},
   "outputs": [],
   "source": [
    "import numpy as np\n",
    "import pandas as pd\n",
    "import matplotlib.pyplot as plt\n",
    "import csv\n",
    "import operator"
   ]
  },
  {
   "cell_type": "code",
   "execution_count": 2,
   "metadata": {},
   "outputs": [],
   "source": [
    "path = 'startup_funding.csv'"
   ]
  },
  {
   "cell_type": "code",
   "execution_count": 3,
   "metadata": {},
   "outputs": [],
   "source": [
    "df = pd.read_csv(path)"
   ]
  },
  {
   "cell_type": "markdown",
   "metadata": {},
   "source": [
    "### Question"
   ]
  },
  {
   "cell_type": "markdown",
   "metadata": {},
   "source": [
    "Due to your immense help, your friend startup successfully got seed funding and it is on the operational mode. Now your friend wants to expand his startup and he is looking for new investors for his startup. Now you again come as a saviour to help your friend and want to create a list of probable new new investors. Before moving forward you remember your investor friend advice that finding the investors by analysing the investment type. Since your friend startup is not in early phase it is in growth stage so the best-suited investment type is Private Equity. Find the top 5 investors who have invested in a different number of startups and their investment type is Private Equity. Correct spelling of investment types are - \"Private Equity\", \"Seed Funding\", \"Debt Funding\", and \"Crowd Funding\". Keep an eye for any spelling mistake. You can find this by printing unique values from this column.There are many errors in startup names. Ignore correcting all, just handle the important ones - Ola, Flipkart, Oyo and Paytm."
   ]
  },
  {
   "cell_type": "code",
   "execution_count": 4,
   "metadata": {},
   "outputs": [],
   "source": [
    "test5 = df.copy()"
   ]
  },
  {
   "cell_type": "code",
   "execution_count": 5,
   "metadata": {},
   "outputs": [],
   "source": [
    "#correcting major startup names\n",
    "test5['StartupName'].replace(\"Ola Cabs\", \"Ola\", inplace = True)\n",
    "test5['StartupName'].replace(\"OyoRooms\", \"Oyo\", inplace = True)\n",
    "test5['StartupName'].replace(\"Oyorooms\", \"Oyo\", inplace = True)\n",
    "test5['StartupName'].replace(\"OYO Rooms\", \"Oyo\", inplace = True)\n",
    "test5['StartupName'].replace(\"Olacabs\", \"Ola\", inplace = True)\n",
    "test5['StartupName'].replace(\"Flipkart.com\", \"Flipkart\", inplace = True)\n",
    "test5['StartupName'].replace(\"Oyo Rooms\", \"Oyo\", inplace = True)\n",
    "test5['StartupName'].replace(\"Paytm Marketplace\", \"Paytm\", inplace = True)"
   ]
  },
  {
   "cell_type": "code",
   "execution_count": 6,
   "metadata": {},
   "outputs": [],
   "source": [
    "#correcting spelling of investment type\n",
    "test5['InvestmentType'].replace(\"PrivateEquity\",\"Private Equity\", inplace = True)\n",
    "test5['InvestmentType'].replace(\"SeedFunding\",\"Seed Funding\", inplace = True)\n",
    "test5['InvestmentType'].replace(\"Crowd funding\",\"Crowd Funding\", inplace = True)"
   ]
  },
  {
   "cell_type": "code",
   "execution_count": 7,
   "metadata": {},
   "outputs": [],
   "source": [
    "#filter na \n",
    "test5.dropna(inplace = True, subset = [\"InvestorsName\", \"StartupName\", \"InvestmentType\"])\n",
    "test5.reset_index(inplace = True, drop = True)"
   ]
  },
  {
   "cell_type": "code",
   "execution_count": 8,
   "metadata": {},
   "outputs": [],
   "source": [
    "#function to create dictionary of investor name making investment to different startups and Investment type is either Seed funding or Crowd funding\n",
    "def Create(startup_name, Investor_name, Invest_type, Investment_type):\n",
    "    cnt = {}\n",
    "    #cnt holds investors name as key and the number of investments as value\n",
    "    name_startup = {}\n",
    "    #name_startup holds the investors name as key and list of different companies in which it invests as value\n",
    "    n = len(Investor_name)\n",
    "    for idx in range(n):\n",
    "        type_of_invest = Invest_type[idx].strip()\n",
    "        if type_of_invest not in Investment_type: #if investement type is either seed or crowd then we will look into the startup name or investors name\n",
    "            continue\n",
    "        i = Investor_name[idx].strip()\n",
    "        name = startup_name[idx].strip()\n",
    "        if ',' not in i and i != \"\":\n",
    "            if name_startup.get(i) is None:    #no startup is still funded by this investor till now\n",
    "                cnt[i] = 1\n",
    "                li = []\n",
    "                li.append(name)\n",
    "                name_startup[i] = li   \n",
    "            else:\n",
    "                li = name_startup[i]\n",
    "                if name not in li:             #checking the given startup has been invested before or not\n",
    "                    cnt[i] = cnt.get(i, 0) + 1\n",
    "                    li.append(name)\n",
    "                    name_startup[i]   \n",
    "        else:\n",
    "            string = i.strip().split(',')\n",
    "            for j in string:\n",
    "                k = j.strip()\n",
    "                if k != \"\":\n",
    "                    if name_startup.get(k) is None:    #no startup is still funded by this investor till now\n",
    "                        cnt[k] = 1\n",
    "                        li = []\n",
    "                        li.append(name)\n",
    "                        name_startup[k] = li\n",
    "                    else:\n",
    "                        li = name_startup[k]\n",
    "                        if name not in li:            #checking the given startup has been invested before or not\n",
    "                            cnt[k] = cnt.get(k, 0) + 1\n",
    "                            li.append(name)\n",
    "                            name_startup[k] = li \n",
    "                \n",
    "    return cnt"
   ]
  },
  {
   "cell_type": "code",
   "execution_count": 9,
   "metadata": {},
   "outputs": [],
   "source": [
    "#making dictionary to keep record of every investor\n",
    "dictionary = Create(test5['StartupName'], test5['InvestorsName'], test5['InvestmentType'], [\"Private Equity\"])"
   ]
  },
  {
   "cell_type": "code",
   "execution_count": 10,
   "metadata": {},
   "outputs": [],
   "source": [
    "#build pandas dataframe\n",
    "diff_invest_type = pd.DataFrame(list(dictionary.values()), list(dictionary.keys()))"
   ]
  },
  {
   "cell_type": "code",
   "execution_count": 11,
   "metadata": {},
   "outputs": [],
   "source": [
    "#sort in descending order on the basis of values\n",
    "diff_invest_type = diff_invest_type.sort_values(by = [0], ascending = False)"
   ]
  },
  {
   "cell_type": "code",
   "execution_count": 15,
   "metadata": {},
   "outputs": [],
   "source": [
    "x = []\n",
    "y = []\n",
    "#we have to just find top 5 Investors\n",
    "for i in range(5):\n",
    "    x.append(diff_invest_type.index[i])\n",
    "    y.append(diff_invest_type.values[i][0])"
   ]
  },
  {
   "cell_type": "code",
   "execution_count": 13,
   "metadata": {},
   "outputs": [
    {
     "name": "stdout",
     "output_type": "stream",
     "text": [
      "List Of Top 5 Investors who Invested most number of times of type Private Equity:\n",
      "1. Sequoia Capital\n",
      "2. Accel Partners\n",
      "3. Kalaari Capital\n",
      "4. Blume Ventures\n",
      "5. SAIF Partners\n"
     ]
    }
   ],
   "source": [
    "#printing the top investors who invested who invested most number of times in different startups and Investment type is Private Equity\n",
    "print(\"List Of Top 5 Investors who Invested most number of times of type Private Equity:\")\n",
    "i = 0\n",
    "for ele in x:\n",
    "    print(i+1,end = \"\")\n",
    "    print(\".\", end = \" \")\n",
    "    print(ele)\n",
    "    i += 1"
   ]
  },
  {
   "cell_type": "code",
   "execution_count": 17,
   "metadata": {},
   "outputs": [
    {
     "data": {
      "image/png": "[encoded data removed]",
      "text/plain": [
       "<Figure size 432x288 with 1 Axes>"
      ]
     },
     "metadata": {
      "needs_background": "light"
     },
     "output_type": "display_data"
    },
    {
     "data": {
      "text/html": [
       "<div>\n",
       "<style scoped>\n",
       "    .dataframe tbody tr th:only-of-type {\n",
       "        vertical-align: middle;\n",
       "    }\n",
       "\n",
       "    .dataframe tbody tr th {\n",
       "        vertical-align: top;\n",
       "    }\n",
       "\n",
       "    .dataframe thead th {\n",
       "        text-align: right;\n",
       "    }\n",
       "</style>\n",
       "<table border=\"1\" class=\"dataframe\">\n",
       "  <thead>\n",
       "    <tr style=\"text-align: right;\">\n",
       "      <th></th>\n",
       "      <th>Name Of Investors</th>\n",
       "      <th>Total Number Of Investments of type Private Equity</th>\n",
       "    </tr>\n",
       "  </thead>\n",
       "  <tbody>\n",
       "    <tr>\n",
       "      <th>0</th>\n",
       "      <td>Sequoia Capital</td>\n",
       "      <td>45</td>\n",
       "    </tr>\n",
       "    <tr>\n",
       "      <th>1</th>\n",
       "      <td>Accel Partners</td>\n",
       "      <td>43</td>\n",
       "    </tr>\n",
       "    <tr>\n",
       "      <th>2</th>\n",
       "      <td>Kalaari Capital</td>\n",
       "      <td>35</td>\n",
       "    </tr>\n",
       "    <tr>\n",
       "      <th>3</th>\n",
       "      <td>Blume Ventures</td>\n",
       "      <td>27</td>\n",
       "    </tr>\n",
       "    <tr>\n",
       "      <th>4</th>\n",
       "      <td>SAIF Partners</td>\n",
       "      <td>24</td>\n",
       "    </tr>\n",
       "  </tbody>\n",
       "</table>\n",
       "</div>"
      ],
      "text/plain": [
       "  Name Of Investors  Total Number Of Investments of type Private Equity\n",
       "0   Sequoia Capital                                                 45 \n",
       "1    Accel Partners                                                 43 \n",
       "2   Kalaari Capital                                                 35 \n",
       "3    Blume Ventures                                                 27 \n",
       "4     SAIF Partners                                                 24 "
      ]
     },
     "execution_count": 17,
     "metadata": {},
     "output_type": "execute_result"
    }
   ],
   "source": [
    "#plot\n",
    "plt.bar(x, y)\n",
    "plt.grid()\n",
    "plt.xlabel(\"Investors Name\")\n",
    "plt.ylabel(\"Number Of Investments\")\n",
    "plt.xticks(rotation=40)\n",
    "plt.title(\"Top 5 Investors and corresponding Number Of Investments In Different Startups of Investment type Private Equity\")\n",
    "plt.show()\n",
    "\n",
    "#pandas frame for Investors name and corresponding Number of Investments made by them in different startups and Investment type is either Seed funding or Crowd funding\n",
    "li = list(zip(x,y))\n",
    "investor_data = pd.DataFrame(li, columns = [\"Name Of Investors\", \"Total Number Of Investments of type Private Equity\"])\n",
    "investor_data"
   ]
  }
 ],
 "metadata": {
  "kernelspec": {
   "display_name": "Python 3",
   "language": "python",
   "name": "python3"
  },
  "language_info": {
   "codemirror_mode": {
    "name": "ipython",
    "version": 3
   },
   "file_extension": ".py",
   "mimetype": "text/x-python",
   "name": "python",
   "nbconvert_exporter": "python",
   "pygments_lexer": "ipython3",
   "version": "3.7.0"
  }
 },
 "nbformat": 4,
 "nbformat_minor": 2
}
